{
 "cells": [
  {
   "cell_type": "code",
   "execution_count": 1,
   "id": "ac748a02",
   "metadata": {},
   "outputs": [
    {
     "name": "stdout",
     "output_type": "stream",
     "text": [
      "h\n",
      "e\n",
      "l\n",
      "l\n",
      "o\n",
      ",\n",
      " \n",
      "w\n",
      "o\n",
      "r\n",
      "l\n",
      "d\n",
      "!\n"
     ]
    }
   ],
   "source": [
    "for letter in \"hello, world!\":\n",
    "    print(letter)"
   ]
  },
  {
   "cell_type": "markdown",
   "id": "ed241a94",
   "metadata": {},
   "source": [
    "# Hey\n",
    "## H2\n",
    "### H3\n",
    ">How are you\n",
    "\n",
    "* Option 1\n",
    "* Option 2"
   ]
  },
  {
   "cell_type": "markdown",
   "id": "ab7cc215",
   "metadata": {},
   "source": [
    "# Problem 1 \n",
    "### Given two strings (string_a and string_b) check if they are anagrams of eachother given the following criteria\n",
    "> two strings are onlt anagrams if all the conditions below are met:\n",
    ">* they must be the same length\n",
    ">* They must use the same characters (no more, no less)\n",
    " \n",
    " Example: Cars and scar, heart and earth."
   ]
  },
  {
   "cell_type": "code",
   "execution_count": 37,
   "id": "e4e23d18",
   "metadata": {},
   "outputs": [],
   "source": [
    "def is_anagram(string_a, string_b):\n",
    "    string_a = string_a.replace(\" \",\"\").lower()\n",
    "    string_b = string_b.replace(\" \",\"\").lower()\n",
    "    if len(string_a) != len(string_b):                    #if they are not the same length return false\n",
    "        return False\n",
    "    char_times_a = dict()                                 #create two empty dictionaries\n",
    "    char_times_b = dict()\n",
    "    for i in range(len(string_a)):                        #iterate over all values from 0 to length of string_a\n",
    "        if string_a[i] not in char_times_a.keys():        #check if we have seen the character at index [i] in string a\n",
    "            char_times_a[string_a[i]] = 1                 #add a 1 because we have seen it once\n",
    "        else:\n",
    "            char_times_a[string_a[i]] += 1                # we have seen it, add 1 to value of char\n",
    "        if string_b[i] not in char_times_b.keys():        #same as a\n",
    "            char_times_b[string_b[i]] = 1\n",
    "        else:\n",
    "            char_times_b[string_b[i]] += 1\n",
    "    return char_times_a == char_times_b                   #compare is char_times_a is exactly the same as char_times_b"
   ]
  },
  {
   "cell_type": "code",
   "execution_count": 38,
   "id": "2327cc77",
   "metadata": {},
   "outputs": [
    {
     "data": {
      "text/plain": [
       "True"
      ]
     },
     "execution_count": 38,
     "metadata": {},
     "output_type": "execute_result"
    }
   ],
   "source": [
    "is_anagram(\"cars\", \"scar\")"
   ]
  },
  {
   "cell_type": "code",
   "execution_count": 39,
   "id": "02a87ad7",
   "metadata": {},
   "outputs": [
    {
     "data": {
      "text/plain": [
       "False"
      ]
     },
     "execution_count": 39,
     "metadata": {},
     "output_type": "execute_result"
    }
   ],
   "source": [
    "is_anagram(\"cars\", \"sccr\")"
   ]
  },
  {
   "cell_type": "code",
   "execution_count": 40,
   "id": "6a6418fe",
   "metadata": {},
   "outputs": [
    {
     "data": {
      "text/plain": [
       "True"
      ]
     },
     "execution_count": 40,
     "metadata": {},
     "output_type": "execute_result"
    }
   ],
   "source": [
    "is_anagram(\"I am Lord Voldemort\", \"Tom Marvolo Riddle\")"
   ]
  },
  {
   "cell_type": "code",
   "execution_count": 7,
   "id": "2834e49c",
   "metadata": {},
   "outputs": [],
   "source": [
    "class Stack:\n",
    "    def __init__(self):\n",
    "        self.items = []\n",
    "        \n",
    "    def is_empty(self):\n",
    "        return self.items == []\n",
    "    \n",
    "    def push(self, item):\n",
    "        self.items.append(item)\n",
    "        \n",
    "    def pop(self):\n",
    "        return self.items.pop()\n",
    "\n",
    "    def peek(self):\n",
    "        return self.items[len(self.items)-1]\n",
    "    \n",
    "    def size(self):\n",
    "        return len(self.items)   #or return self.size()"
   ]
  },
  {
   "cell_type": "code",
   "execution_count": 9,
   "id": "f715e563",
   "metadata": {},
   "outputs": [
    {
     "data": {
      "text/plain": [
       "False"
      ]
     },
     "execution_count": 9,
     "metadata": {},
     "output_type": "execute_result"
    }
   ],
   "source": [
    "mystring = \"Shane\"\n",
    "#what I want:\n",
    "mystring == \"enahS\""
   ]
  },
  {
   "cell_type": "code",
   "execution_count": 14,
   "id": "188cbcf1",
   "metadata": {},
   "outputs": [],
   "source": [
    "def reverse_str(mystring):\n",
    "    stack = Stack()\n",
    "    output = \"\"\n",
    "    for letter in mystring:\n",
    "        stack.push(letter)\n",
    "    while not stack.is_empty():\n",
    "        output += stack.pop()\n",
    "    return output \n",
    "    \n",
    "        \n",
    "        "
   ]
  },
  {
   "cell_type": "code",
   "execution_count": 15,
   "id": "06853df5",
   "metadata": {},
   "outputs": [
    {
     "data": {
      "text/plain": [
       "'enahS'"
      ]
     },
     "execution_count": 15,
     "metadata": {},
     "output_type": "execute_result"
    }
   ],
   "source": [
    "reverse_str(\"Shane\")"
   ]
  },
  {
   "cell_type": "code",
   "execution_count": null,
   "id": "0ab0356f",
   "metadata": {},
   "outputs": [],
   "source": []
  }
 ],
 "metadata": {
  "kernelspec": {
   "display_name": "Python 3 (ipykernel)",
   "language": "python",
   "name": "python3"
  },
  "language_info": {
   "codemirror_mode": {
    "name": "ipython",
    "version": 3
   },
   "file_extension": ".py",
   "mimetype": "text/x-python",
   "name": "python",
   "nbconvert_exporter": "python",
   "pygments_lexer": "ipython3",
   "version": "3.8.10"
  }
 },
 "nbformat": 4,
 "nbformat_minor": 5
}
