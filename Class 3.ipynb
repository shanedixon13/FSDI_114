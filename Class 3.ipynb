{
 "cells": [
  {
   "cell_type": "code",
   "execution_count": 7,
   "id": "4fd0cdbf",
   "metadata": {},
   "outputs": [],
   "source": [
    "class Queue2Stacks:\n",
    "    def __init__(self):\n",
    "        self.stack1 = [] #in-stack\n",
    "        self.stack2 = [] #out-stack\n",
    "        \n",
    "    def enqueue(self, element):\n",
    "        self.stack1.append(element)\n",
    "    \n",
    "    def dequeue(self):\n",
    "        if not self.stack2:\n",
    "            while self.stack1:\n",
    "                self.stack2.append(self.stack1.pop())\n",
    "        return self.stack2.pop()"
   ]
  },
  {
   "cell_type": "code",
   "execution_count": 8,
   "id": "7423cd45",
   "metadata": {},
   "outputs": [],
   "source": [
    "def test():\n",
    "    q = Queue2Stacks()\n",
    "    for i in range(5):\n",
    "        q.enqueue(i)\n",
    "    for i in range(5):\n",
    "        print(q.dequeue())"
   ]
  },
  {
   "cell_type": "code",
   "execution_count": 9,
   "id": "9cf262d6",
   "metadata": {
    "scrolled": true
   },
   "outputs": [
    {
     "name": "stdout",
     "output_type": "stream",
     "text": [
      "0\n",
      "1\n",
      "2\n",
      "3\n",
      "4\n"
     ]
    }
   ],
   "source": [
    "test()"
   ]
  },
  {
   "cell_type": "code",
   "execution_count": 10,
   "id": "4585b6bd",
   "metadata": {},
   "outputs": [],
   "source": [
    "def factorial(n):\n",
    "    if n == 0:\n",
    "        return 1\n",
    "    return n*factorial(n-1)"
   ]
  },
  {
   "cell_type": "code",
   "execution_count": 11,
   "id": "46f4e611",
   "metadata": {},
   "outputs": [
    {
     "data": {
      "text/plain": [
       "3628800"
      ]
     },
     "execution_count": 11,
     "metadata": {},
     "output_type": "execute_result"
    }
   ],
   "source": [
    "factorial(10)"
   ]
  },
  {
   "cell_type": "code",
   "execution_count": 17,
   "id": "61de9113",
   "metadata": {},
   "outputs": [],
   "source": [
    "from functools import lru_cache\n",
    "\n",
    "@lru_cache\n",
    "def fib(n):\n",
    "    if n < 2:\n",
    "        return n\n",
    "    return fib(n-1) + fib(n-2)"
   ]
  },
  {
   "cell_type": "code",
   "execution_count": 18,
   "id": "97e3368e",
   "metadata": {},
   "outputs": [
    {
     "data": {
      "text/plain": [
       "354224848179261915075"
      ]
     },
     "execution_count": 18,
     "metadata": {},
     "output_type": "execute_result"
    }
   ],
   "source": [
    "fib(100)"
   ]
  },
  {
   "cell_type": "code",
   "execution_count": 4,
   "id": "de4836f4",
   "metadata": {},
   "outputs": [],
   "source": [
    "class Node:\n",
    "    def __init__(self, data):\n",
    "        self.data = data\n",
    "        self.next = None\n",
    "\n",
    "\n",
    "class SinglyLinkedList:\n",
    "    def __init__(self):\n",
    "        self.head = None\n",
    "\n",
    "    def insert(self, index, data):\n",
    "        # the first thing we need to do\n",
    "        # is not make any assumptions that the\n",
    "        # append operation has been called prior to this.\n",
    "        if not self.head:\n",
    "            self.head = Node(data)\n",
    "        elif index == 0:\n",
    "            new_node = Node(data)     #create new node with \"data\"\n",
    "            temp = self.head          #create reference to current head\n",
    "            new_node.next = temp      #point new_node's next to that ref \n",
    "            self.head = new_node      #set self.head to new_node\n",
    "        else:\n",
    "            current = self.head\n",
    "            counter = 0\n",
    "            while current.next and counter != index:\n",
    "                current = current.next\n",
    "                counter += 1\n",
    "            if not current.next:\n",
    "                current.next = Node(data)\n",
    "            else:\n",
    "                temp = current.next\n",
    "                new_node = Node(data)\n",
    "                current.next = new_node\n",
    "                new_node.next = temp\n",
    "\n",
    "    def append(self, data):\n",
    "        if not self.head:\n",
    "            self.head = Node(data)\n",
    "        else:\n",
    "            current = self.head\n",
    "            while current.next:\n",
    "                current = current.next\n",
    "            current.next = Node(data)\n",
    "\n",
    "    def __repr__(self):\n",
    "        out_str = \"\"\n",
    "        current = self.head\n",
    "        while current:\n",
    "            out_str += \"%s, \" % current.data\n",
    "            current = current.next\n",
    "        return \"[%s]\" % out_str\n",
    "\n",
    "    def get_index(self, index):\n",
    "        counter = 0\n",
    "        current = self.head\n",
    "        while current and counter != index:\n",
    "            current = current.next\n",
    "            counter += 1\n",
    "        if counter != index:\n",
    "            raise IndexError(\"list index out of range\")\n",
    "        return current.data\n",
    "    \n",
    "    def remove(self, value):\n",
    "        found = False\n",
    "        if not self.head:\n",
    "            raise ValueError(\"list.remove(%s) : %s is not in the list\" % (value, value))\n",
    "        else:\n",
    "            if self.head.data == value:\n",
    "                self.head = self.head.next\n",
    "                found = True\n",
    "            else:\n",
    "                current = self.head.next\n",
    "                prev = self.head\n",
    "                while current and not found:\n",
    "                    if current.data == value:\n",
    "                        prev.next = current.next\n",
    "                        found = True\n",
    "                    prev = current\n",
    "                    current = current.next\n",
    "            if not found: raise ValueError(\"list.remove(%s): %s is not in the list\" % (value, value))\n",
    "                \n",
    "    def count(self, value):\n",
    "        current = self.head\n",
    "        count = 0\n",
    "        while current:\n",
    "            if current.data == value:\n",
    "                count += 1\n",
    "            current = current.next\n",
    "        return count\n",
    "\n",
    "    def index(self, value):\n",
    "        current = self.head\n",
    "        index = 0\n",
    "        while current:\n",
    "            if current.data == value:\n",
    "                return index\n",
    "            else:\n",
    "                index += 1\n",
    "                current = current.next\n",
    "        raise ValueError(\"Value not found\")\n",
    "            "
   ]
  },
  {
   "cell_type": "code",
   "execution_count": 5,
   "id": "ad29397c",
   "metadata": {},
   "outputs": [
    {
     "name": "stdout",
     "output_type": "stream",
     "text": [
      "Insert values from 2 to 18 at index 0\n",
      "[18, 16, 14, 12, 10, 8, 6, 4, 2, ]\n",
      "Insert letetrs from A to E at index 4\n",
      "[18, 16, 14, 12, 10, E, D, C, B, A, 8, 6, 4, 2, ]\n",
      "Remove letetrs from A to E at index (values)\n",
      "[18, 16, 14, 12, 10, 8, 6, 4, 2, ]\n",
      "1\n",
      "7\n"
     ]
    }
   ],
   "source": [
    "sll = SinglyLinkedList()\n",
    "\n",
    "for number in range(2, 20, 2):\n",
    "    sll.insert(0, number)\n",
    "print(\"Insert values from 2 to 18 at index 0\")\n",
    "print(sll)\n",
    "    \n",
    "for letter in \"ABCDE\":\n",
    "    sll.insert(4, letter)\n",
    "print(\"Insert letetrs from A to E at index 4\")\n",
    "print(sll)\n",
    "\n",
    "for letter in \"ABCDE\":\n",
    "    sll.remove(letter)\n",
    "print(\"Remove letetrs from A to E at index (values)\")\n",
    "print(sll)\n",
    "\n",
    "print(sll.count(12))\n",
    "\n",
    "print(sll.index(4))\n",
    "    "
   ]
  },
  {
   "cell_type": "code",
   "execution_count": null,
   "id": "2fa735f2",
   "metadata": {},
   "outputs": [],
   "source": []
  }
 ],
 "metadata": {
  "kernelspec": {
   "display_name": "Python 3 (ipykernel)",
   "language": "python",
   "name": "python3"
  },
  "language_info": {
   "codemirror_mode": {
    "name": "ipython",
    "version": 3
   },
   "file_extension": ".py",
   "mimetype": "text/x-python",
   "name": "python",
   "nbconvert_exporter": "python",
   "pygments_lexer": "ipython3",
   "version": "3.8.10"
  }
 },
 "nbformat": 4,
 "nbformat_minor": 5
}
