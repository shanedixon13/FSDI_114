{
 "cells": [
  {
   "cell_type": "code",
   "execution_count": 2,
   "id": "da1ffec7",
   "metadata": {},
   "outputs": [
    {
     "name": "stdout",
     "output_type": "stream",
     "text": [
      "ABCD\n"
     ]
    }
   ],
   "source": [
    "x = \" A B C D\"\n",
    "y=x.replace(\" \", \"\")\n",
    "print(y)"
   ]
  },
  {
   "cell_type": "code",
   "execution_count": 3,
   "id": "01cd1f16",
   "metadata": {},
   "outputs": [
    {
     "data": {
      "text/plain": [
       "65"
      ]
     },
     "execution_count": 3,
     "metadata": {},
     "output_type": "execute_result"
    }
   ],
   "source": [
    "ord(\"A\")"
   ]
  },
  {
   "cell_type": "code",
   "execution_count": 4,
   "id": "703da72d",
   "metadata": {},
   "outputs": [
    {
     "data": {
      "text/plain": [
       "'A'"
      ]
     },
     "execution_count": 4,
     "metadata": {},
     "output_type": "execute_result"
    }
   ],
   "source": [
    "chr(65)"
   ]
  },
  {
   "cell_type": "code",
   "execution_count": 2,
   "id": "5bd12416",
   "metadata": {},
   "outputs": [],
   "source": [
    "#given a string of (),[], {} (three types) with no spaces or charaters determine if it is balanced\n",
    "#Function called balance_check that takes the perameter \"s\"\n",
    "#balance_check('[]') should equal True\n",
    "#may not use built in data structure"
   ]
  },
  {
   "cell_type": "code",
   "execution_count": 5,
   "id": "de93ef78",
   "metadata": {},
   "outputs": [],
   "source": [
    "class Stack:\n",
    "    def __init__(self):\n",
    "        self.items = []\n",
    "    def push(self, item):\n",
    "        self.items.append(item)\n",
    "    def pop(self):\n",
    "        return self.items.pop()\n",
    "    def is_empty(self):\n",
    "        return self.items == []\n",
    "    def peek(self):\n",
    "        self.items[len(self.items)-1]\n",
    "    def size(self):\n",
    "        return len(self.items)\n",
    "    def __len__(self):\n",
    "        return self.size()\n"
   ]
  },
  {
   "cell_type": "code",
   "execution_count": 16,
   "id": "4b8e548a",
   "metadata": {},
   "outputs": [],
   "source": [
    "def is_balanced(s):\n",
    "    if len(s)%2 != 0:\n",
    "        return False\n",
    "    opening = set(\"{[(\")\n",
    "    matches = set([(\"(\",\")\"), (\"{\",\"}\"), (\"[\",\"]\")])\n",
    "    stack = Stack()\n",
    "    for paren in s:\n",
    "        if paren in opening:\n",
    "            stack.push(paren)\n",
    "        else: \n",
    "            if stack.is_empty():\n",
    "                return False\n",
    "            last_open = stack.pop()\n",
    "            if (last_open, paren) not in matches:\n",
    "                return False\n",
    "    return stack.is_empty()\n",
    "            \n",
    "    \n",
    "    "
   ]
  },
  {
   "cell_type": "code",
   "execution_count": 17,
   "id": "7a5440a4",
   "metadata": {},
   "outputs": [],
   "source": [
    "#info about above problem\n",
    "\n",
    "mystring = \"(((([[[{{{}}}]]]))))\"\n",
    "mystring1 = \"()[]{}[](){}()[][]{}\"\n",
    "\n",
    "not_balanced = \"([(])({[]})\"\n",
    "\n",
    "assert is_balanced(mystring) ==True\n",
    "assert is_balanced(mystring1) == True\n",
    "assert is_balanced(not_balanced) == False"
   ]
  },
  {
   "cell_type": "code",
   "execution_count": null,
   "id": "98123b0f",
   "metadata": {},
   "outputs": [],
   "source": []
  }
 ],
 "metadata": {
  "kernelspec": {
   "display_name": "Python 3 (ipykernel)",
   "language": "python",
   "name": "python3"
  },
  "language_info": {
   "codemirror_mode": {
    "name": "ipython",
    "version": 3
   },
   "file_extension": ".py",
   "mimetype": "text/x-python",
   "name": "python",
   "nbconvert_exporter": "python",
   "pygments_lexer": "ipython3",
   "version": "3.8.10"
  }
 },
 "nbformat": 4,
 "nbformat_minor": 5
}
