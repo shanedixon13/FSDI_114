{
 "cells": [
  {
   "cell_type": "code",
   "execution_count": 1,
   "id": "baa08551",
   "metadata": {},
   "outputs": [
    {
     "name": "stdout",
     "output_type": "stream",
     "text": [
      "h\n",
      "e\n",
      "l\n",
      "l\n",
      "o\n",
      ",\n",
      " \n",
      "w\n",
      "o\n",
      "r\n",
      "l\n",
      "d\n",
      "!\n"
     ]
    }
   ],
   "source": [
    "for letter in \"hello, world!\":\n",
    "    print(letter)"
   ]
  },
  {
   "cell_type": "markdown",
   "id": "4d95b349",
   "metadata": {},
   "source": [
    "# Hey\n",
    "## H2\n",
    "### H3\n",
    ">How are you\n",
    "\n",
    "* Option 1\n",
    "* Option 2"
   ]
  },
  {
   "cell_type": "markdown",
   "id": "1f13438d",
   "metadata": {},
   "source": [
    "# Problem 1 \n",
    "### Given two strings (string_a and string_b) check if they are anagrams of eachother given the following criteria\n",
    "> two strings are onlt anagrams if all the conditions below are met:\n",
    ">* they must be the same length\n",
    ">* They must use the same characters (no more, no less)\n",
    " \n",
    " Example: Cars and scar, heart and earth."
   ]
  },
  {
   "cell_type": "code",
   "execution_count": 16,
   "id": "029b457c",
   "metadata": {},
   "outputs": [
    {
     "ename": "SyntaxError",
     "evalue": "invalid syntax (3544031737.py, line 6)",
     "output_type": "error",
     "traceback": [
      "\u001b[0;36m  File \u001b[0;32m\"/tmp/ipykernel_194/3544031737.py\"\u001b[0;36m, line \u001b[0;32m6\u001b[0m\n\u001b[0;31m    string_a.replace( ,\"\")\u001b[0m\n\u001b[0m                      ^\u001b[0m\n\u001b[0;31mSyntaxError\u001b[0m\u001b[0;31m:\u001b[0m invalid syntax\n"
     ]
    }
   ],
   "source": [
    "def is_anagram(string_a, string_b):\n",
    "    if len(string_a) != len(string_b):                    #if they are not the same length return false\n",
    "        return False\n",
    "    char_times_a = dict()                                 #create two empty dictionaries\n",
    "    char_times_b = dict()\n",
    "    string_a.replace([ ] ,\"\")\n",
    "    string_b.replace([ ] ,\"\")\n",
    "    for i in range(len(string_a)):                        #iterate over all values from 0 to length of string_a\n",
    "        if string_a[i] not in char_times_a.keys():        #check if we have seen the character at index [i] in string a\n",
    "            char_times_a[string_a[i]] = 1                 #add a 1 because we have seen it once\n",
    "        else:\n",
    "            char_times_a[string_a[i]] += 1                # we have seen it, add 1 to value of char\n",
    "        if string_b[i] not in char_times_b.keys():        #same as a\n",
    "            char_times_b[string_b[i]] = 1\n",
    "        else:\n",
    "            char_times_b[string_b[i]] += 1\n",
    "    return char_times_a == char_times_b                   #compare is char_times_a is exactly the same as char_times_b"
   ]
  },
  {
   "cell_type": "code",
   "execution_count": 3,
   "id": "f8e05f6f",
   "metadata": {},
   "outputs": [
    {
     "data": {
      "text/plain": [
       "True"
      ]
     },
     "execution_count": 3,
     "metadata": {},
     "output_type": "execute_result"
    }
   ],
   "source": [
    "is_anagram(\"cars\", \"scar\")"
   ]
  },
  {
   "cell_type": "code",
   "execution_count": 4,
   "id": "0ddd5deb",
   "metadata": {},
   "outputs": [
    {
     "data": {
      "text/plain": [
       "False"
      ]
     },
     "execution_count": 4,
     "metadata": {},
     "output_type": "execute_result"
    }
   ],
   "source": [
    "is_anagram(\"cars\", \"sccr\")"
   ]
  },
  {
   "cell_type": "code",
   "execution_count": 5,
   "id": "d3c74550",
   "metadata": {},
   "outputs": [
    {
     "data": {
      "text/plain": [
       "False"
      ]
     },
     "execution_count": 5,
     "metadata": {},
     "output_type": "execute_result"
    }
   ],
   "source": [
    "is_anagram(\"I am Lord Voldemort\", \"Tom Marvolo Riddle1\")"
   ]
  },
  {
   "cell_type": "code",
   "execution_count": 7,
   "id": "0ab840d6",
   "metadata": {},
   "outputs": [],
   "source": [
    "class Stack:\n",
    "    def __init__(self):\n",
    "        self.items = []\n",
    "        \n",
    "    def is_empty(self):\n",
    "        return self.items == []\n",
    "    \n",
    "    def push(self, item):\n",
    "        self.items.append(item)\n",
    "        \n",
    "    def pop(self):\n",
    "        return self.items.pop()\n",
    "\n",
    "    def peek(self):\n",
    "        return self.items[len(self.items)-1]\n",
    "    \n",
    "    def size(self):\n",
    "        return len(self.items)   #or return self.size()"
   ]
  },
  {
   "cell_type": "code",
   "execution_count": 9,
   "id": "5c59937d",
   "metadata": {},
   "outputs": [
    {
     "data": {
      "text/plain": [
       "False"
      ]
     },
     "execution_count": 9,
     "metadata": {},
     "output_type": "execute_result"
    }
   ],
   "source": [
    "mystring = \"Shane\"\n",
    "#what I want:\n",
    "mystring == \"enahS\""
   ]
  },
  {
   "cell_type": "code",
   "execution_count": 14,
   "id": "f4295129",
   "metadata": {},
   "outputs": [],
   "source": [
    "def reverse_str(mystring):\n",
    "    stack = Stack()\n",
    "    output = \"\"\n",
    "    for letter in mystring:\n",
    "        stack.push(letter)\n",
    "    while not stack.is_empty():\n",
    "        output += stack.pop()\n",
    "    return output \n",
    "    \n",
    "        \n",
    "        "
   ]
  },
  {
   "cell_type": "code",
   "execution_count": 15,
   "id": "fdd0c9b9",
   "metadata": {},
   "outputs": [
    {
     "data": {
      "text/plain": [
       "'enahS'"
      ]
     },
     "execution_count": 15,
     "metadata": {},
     "output_type": "execute_result"
    }
   ],
   "source": [
    "reverse_str(\"Shane\")"
   ]
  },
  {
   "cell_type": "code",
   "execution_count": null,
   "id": "5182a53d",
   "metadata": {},
   "outputs": [],
   "source": []
  }
 ],
 "metadata": {
  "kernelspec": {
   "display_name": "Python 3 (ipykernel)",
   "language": "python",
   "name": "python3"
  },
  "language_info": {
   "codemirror_mode": {
    "name": "ipython",
    "version": 3
   },
   "file_extension": ".py",
   "mimetype": "text/x-python",
   "name": "python",
   "nbconvert_exporter": "python",
   "pygments_lexer": "ipython3",
   "version": "3.8.10"
  }
 },
 "nbformat": 4,
 "nbformat_minor": 5
}
